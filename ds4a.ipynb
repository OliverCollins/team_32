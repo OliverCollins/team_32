{
 "cells": [
  {
   "cell_type": "code",
   "execution_count": 1,
   "metadata": {},
   "outputs": [],
   "source": [
    "import pandas as pd\n",
    "import numpy as np\n",
    "import matplotlib.pyplot as plt\n",
    "import seaborn as sns\n",
    "\n",
    "# ML Models\n",
    "from sklearn.linear_model import SGDClassifier\n",
    "from sklearn.metrics import accuracy_score, precision_score"
   ]
  },
  {
   "cell_type": "markdown",
   "metadata": {},
   "source": [
    "**Import Data**"
   ]
  },
  {
   "cell_type": "code",
   "execution_count": 2,
   "metadata": {},
   "outputs": [
    {
     "name": "stderr",
     "output_type": "stream",
     "text": [
      "/usr/local/lib/python3.8/site-packages/IPython/core/interactiveshell.py:3146: DtypeWarning: Columns (326,329,332,335,338,366,367,368,369,370) have mixed types.Specify dtype option on import or set low_memory=False.\n",
      "  has_raised = await self.run_ast_nodes(code_ast.body, cell_name,\n"
     ]
    }
   ],
   "source": [
    "# Linked Birth Infant Death Records 2017-2018\n",
    "birth_deaths = pd.read_fwf(\"./data/birth.txt\")\n",
    "\n",
    "# Physicians and Surgeons by race/ethnicity and practice\n",
    "physicians = pd.read_csv(\"./data/physicians.csv\")\n",
    "\n",
    "# Raw Birth Data -> https://data.nber.org/linkpe/2013/LinkPE13Guide.pdf\n",
    "birth_deaths_raw = pd.read_csv(\"./data/US_Birth_Data_Short.csv\")\n",
    "\n",
    "births_deaths_large = pd.read_csv(\"./data/US_Birth_Data_2013.csv\")"
   ]
  },
  {
   "cell_type": "code",
   "execution_count": 3,
   "metadata": {},
   "outputs": [
    {
     "name": "stdout",
     "output_type": "stream",
     "text": [
      "birth_deaths: 77 physicians: 892 raw: 1000\n"
     ]
    }
   ],
   "source": [
    "print(\"birth_deaths:\", len(birth_deaths), \"physicians:\", len(physicians), \"raw:\", len(birth_deaths_raw))"
   ]
  },
  {
   "cell_type": "code",
   "execution_count": 4,
   "metadata": {},
   "outputs": [
    {
     "data": {
      "text/html": [
       "<div>\n",
       "<style scoped>\n",
       "    .dataframe tbody tr th:only-of-type {\n",
       "        vertical-align: middle;\n",
       "    }\n",
       "\n",
       "    .dataframe tbody tr th {\n",
       "        vertical-align: top;\n",
       "    }\n",
       "\n",
       "    .dataframe thead th {\n",
       "        text-align: right;\n",
       "    }\n",
       "</style>\n",
       "<table border=\"1\" class=\"dataframe\">\n",
       "  <thead>\n",
       "    <tr style=\"text-align: right;\">\n",
       "      <th></th>\n",
       "      <th>Month</th>\n",
       "      <th>Year</th>\n",
       "      <th>Primary Practice County</th>\n",
       "      <th>Race/Ethnicity</th>\n",
       "      <th>Count of Licensees</th>\n",
       "    </tr>\n",
       "  </thead>\n",
       "  <tbody>\n",
       "    <tr>\n",
       "      <th>0</th>\n",
       "      <td>March</td>\n",
       "      <td>2016</td>\n",
       "      <td>Alameda</td>\n",
       "      <td>African-American/Black/African</td>\n",
       "      <td>148</td>\n",
       "    </tr>\n",
       "    <tr>\n",
       "      <th>1</th>\n",
       "      <td>March</td>\n",
       "      <td>2016</td>\n",
       "      <td>Alameda</td>\n",
       "      <td>American Indian/ Native America</td>\n",
       "      <td>6</td>\n",
       "    </tr>\n",
       "    <tr>\n",
       "      <th>2</th>\n",
       "      <td>March</td>\n",
       "      <td>2016</td>\n",
       "      <td>Alameda</td>\n",
       "      <td>Asian - Cambodian</td>\n",
       "      <td>1</td>\n",
       "    </tr>\n",
       "    <tr>\n",
       "      <th>3</th>\n",
       "      <td>March</td>\n",
       "      <td>2016</td>\n",
       "      <td>Alameda</td>\n",
       "      <td>Asian - Chinese</td>\n",
       "      <td>284</td>\n",
       "    </tr>\n",
       "    <tr>\n",
       "      <th>4</th>\n",
       "      <td>March</td>\n",
       "      <td>2016</td>\n",
       "      <td>Alameda</td>\n",
       "      <td>Asian - Indian</td>\n",
       "      <td>273</td>\n",
       "    </tr>\n",
       "    <tr>\n",
       "      <th>5</th>\n",
       "      <td>March</td>\n",
       "      <td>2016</td>\n",
       "      <td>Alameda</td>\n",
       "      <td>Asian - Indonesian</td>\n",
       "      <td>2</td>\n",
       "    </tr>\n",
       "    <tr>\n",
       "      <th>6</th>\n",
       "      <td>March</td>\n",
       "      <td>2016</td>\n",
       "      <td>Alameda</td>\n",
       "      <td>Asian - Japanese</td>\n",
       "      <td>20</td>\n",
       "    </tr>\n",
       "    <tr>\n",
       "      <th>7</th>\n",
       "      <td>March</td>\n",
       "      <td>2016</td>\n",
       "      <td>Alameda</td>\n",
       "      <td>Asian - Korean</td>\n",
       "      <td>41</td>\n",
       "    </tr>\n",
       "    <tr>\n",
       "      <th>8</th>\n",
       "      <td>March</td>\n",
       "      <td>2016</td>\n",
       "      <td>Alameda</td>\n",
       "      <td>Asian - Other Asian</td>\n",
       "      <td>34</td>\n",
       "    </tr>\n",
       "    <tr>\n",
       "      <th>9</th>\n",
       "      <td>March</td>\n",
       "      <td>2016</td>\n",
       "      <td>Alameda</td>\n",
       "      <td>Asian - Pakistani</td>\n",
       "      <td>15</td>\n",
       "    </tr>\n",
       "  </tbody>\n",
       "</table>\n",
       "</div>"
      ],
      "text/plain": [
       "   Month  Year Primary Practice County                   Race/Ethnicity  \\\n",
       "0  March  2016                 Alameda   African-American/Black/African   \n",
       "1  March  2016                 Alameda  American Indian/ Native America   \n",
       "2  March  2016                 Alameda                Asian - Cambodian   \n",
       "3  March  2016                 Alameda                  Asian - Chinese   \n",
       "4  March  2016                 Alameda                   Asian - Indian   \n",
       "5  March  2016                 Alameda               Asian - Indonesian   \n",
       "6  March  2016                 Alameda                 Asian - Japanese   \n",
       "7  March  2016                 Alameda                   Asian - Korean   \n",
       "8  March  2016                 Alameda              Asian - Other Asian   \n",
       "9  March  2016                 Alameda                Asian - Pakistani   \n",
       "\n",
       "   Count of Licensees  \n",
       "0                 148  \n",
       "1                   6  \n",
       "2                   1  \n",
       "3                 284  \n",
       "4                 273  \n",
       "5                   2  \n",
       "6                  20  \n",
       "7                  41  \n",
       "8                  34  \n",
       "9                  15  "
      ]
     },
     "execution_count": 4,
     "metadata": {},
     "output_type": "execute_result"
    }
   ],
   "source": [
    "physicians.head(10)"
   ]
  },
  {
   "cell_type": "code",
   "execution_count": 5,
   "metadata": {},
   "outputs": [
    {
     "data": {
      "text/plain": [
       "<AxesSubplot:xlabel='Race/Ethnicity', ylabel='Count of Licensees'>"
      ]
     },
     "execution_count": 5,
     "metadata": {},
     "output_type": "execute_result"
    },
    {
     "data": {
      "image/png": "[encoded data removed]",
      "text/plain": [
       "<Figure size 1152x288 with 1 Axes>"
      ]
     },
     "metadata": {},
     "output_type": "display_data"
    }
   ],
   "source": [
    "# Simplify Race/Ethnicity into ethnic groups (https://grants.nih.gov/grants/guide/notice-files/not-od-15-089.html)\n",
    "ethnic_groups = {\n",
    "    \"American Indian/Alaska Native\": 0,\n",
    "    \"Asian\": 0,\n",
    "    \"Black/African American\": 0,\n",
    "    \"Hispanic/Latino\": 0,\n",
    "    \"Native Hawaiian/Other Pacific Islander\": 0,\n",
    "    \"White\": 0,\n",
    "    \"Other\": 0\n",
    "}\n",
    "\n",
    "for index, row in physicians.iterrows():\n",
    "    if 'White' in row['Race/Ethnicity']:\n",
    "        ethnic_groups['White'] += row['Count of Licensees']\n",
    "    elif 'Latino' in row['Race/Ethnicity'] or 'Hispanic' in row['Race/Ethnicity']:\n",
    "        ethnic_groups['Hispanic/Latino'] += row['Count of Licensees']\n",
    "    elif 'African-American' in row['Race/Ethnicity'] or 'Black' in row['Race/Ethnicity']:\n",
    "        ethnic_groups['Black/African American'] += row['Count of Licensees']\n",
    "    elif 'Hawaiian' in row['Race/Ethnicity']:\n",
    "        ethnic_groups['Native Hawaiian/Other Pacific Islander'] += row['Count of Licensees']\n",
    "    elif 'Asian' in row['Race/Ethnicity'] or 'Taiwanese' in row['Race/Ethnicity'] or 'Singaporean' in row['Race/Ethnicity'] or 'Malaysian' in row['Race/Ethnicity']:\n",
    "        ethnic_groups['Asian'] += row['Count of Licensees']\n",
    "    elif 'Native America' in row['Race/Ethnicity']:\n",
    "        ethnic_groups['American Indian/Alaska Native'] += row['Count of Licensees']\n",
    "    else:\n",
    "        ethnic_groups['Other'] += row['Count of Licensees']\n",
    "    \n",
    "columns = ['Race/Ethnicity', 'Count of Licensees']\n",
    "\n",
    "data = []\n",
    "for race, count in ethnic_groups.items():\n",
    "    data.append([race, count])\n",
    "\n",
    "physicians_ethnic_groups = pd.DataFrame(data, columns=columns)\n",
    "\n",
    "# Plot!\n",
    "sns.set(style=\"whitegrid\")\n",
    "\n",
    "plt.figure(1, figsize=(16,4))\n",
    "sns.barplot(x='Race/Ethnicity',y='Count of Licensees', data=physicians_ethnic_groups, palette='Spectral')"
   ]
  },
  {
   "cell_type": "code",
   "execution_count": 6,
   "metadata": {},
   "outputs": [
    {
     "data": {
      "text/plain": [
       "Index(['laterec', 'DOB_YEAR', 'DOB_MONTH', 'DOB_TIME', 'DOB_DAY_OF_WEEK',\n",
       "       'OCCURENCE_TERRITORY', 'OCCURENCE_FIPS_COUNTY',\n",
       "       'OCCURENCE_COUNTY_POPULATION', 'BIRTH_PLACE_REVISED', 'BIRTH_PLACE',\n",
       "       ...\n",
       "       'stoccfipd', 'cntoccfipd', 'stresfipd', 'drcnty', 'cntyrfpd',\n",
       "       'cntrsppd', 'hospd', 'weekdayd', 'dthyr', 'dthmon'],\n",
       "      dtype='object', length=388)"
      ]
     },
     "execution_count": 6,
     "metadata": {},
     "output_type": "execute_result"
    }
   ],
   "source": [
    "# Obviously a lot of data so let's cleanup\n",
    "birth_deaths_raw.columns"
   ]
  },
  {
   "cell_type": "code",
   "execution_count": 7,
   "metadata": {},
   "outputs": [
    {
     "name": "stdout",
     "output_type": "stream",
     "text": [
      "  revision  laterec  DOB_YEAR  DOB_MONTH  DOB_TIME  DOB_DAY_OF_WEEK  \\\n",
      "0        S        0      2012          5       NaN                3   \n",
      "1        S        0      2012          5       NaN                5   \n",
      "2        S        0      2012          6       NaN                2   \n",
      "3        S        0      2012          9       NaN                7   \n",
      "4        S        0      2012          9       NaN                3   \n",
      "\n",
      "   OCCURENCE_TERRITORY  OCCURENCE_FIPS_COUNTY  OCCURENCE_COUNTY_POPULATION  \\\n",
      "0                  NaN                    NaN                          NaN   \n",
      "1                  NaN                    NaN                          NaN   \n",
      "2                  NaN                    NaN                          NaN   \n",
      "3                  NaN                    NaN                          NaN   \n",
      "4                  NaN                    NaN                          NaN   \n",
      "\n",
      "   BIRTH_PLACE_REVISED  ...  stoccfipd  cntoccfipd  stresfipd  drcnty  \\\n",
      "0                  NaN  ...        NaN         NaN        NaN     NaN   \n",
      "1                  NaN  ...        NaN         NaN        NaN     NaN   \n",
      "2                  NaN  ...        NaN         NaN        NaN     NaN   \n",
      "3                  NaN  ...        NaN         NaN        NaN     NaN   \n",
      "4                  NaN  ...        NaN         NaN        NaN     NaN   \n",
      "\n",
      "   cntyrfpd  cntrsppd  hospd  weekdayd  dthyr  dthmon  \n",
      "0       NaN       NaN      1         2   2013       1  \n",
      "1       NaN       NaN      4         2   2013       1  \n",
      "2       NaN       NaN      1         7   2013       1  \n",
      "3       NaN       NaN      3         7   2013       1  \n",
      "4       NaN       NaN      2         7   2013       3  \n",
      "\n",
      "[5 rows x 389 columns]\n"
     ]
    }
   ],
   "source": [
    "race_df = births_deaths_large[births_deaths_large[\"MOTHERS_RACE\"].notnull()]\n",
    "\n",
    "print(race_df.head(5))"
   ]
  },
  {
   "cell_type": "code",
   "execution_count": 8,
   "metadata": {},
   "outputs": [
    {
     "data": {
      "text/plain": [
       "Text(0.5, 1.0, 'Race of Mother')"
      ]
     },
     "execution_count": 8,
     "metadata": {},
     "output_type": "execute_result"
    },
    {
     "data": {
      "image/png": "[encoded data removed]",
      "text/plain": [
       "<Figure size 1008x576 with 1 Axes>"
      ]
     },
     "metadata": {},
     "output_type": "display_data"
    }
   ],
   "source": [
    "pie, ax = plt.subplots(figsize=[14,8])\n",
    "labels = 'White', 'Black', 'American Indian', 'Combined Other Asian', 'Asian Indian', 'Filipino', 'Korean', 'Other Asian', 'Chinese', 'Japanese', 'Vietnamese'\n",
    "race_df[\"MOTHERS_RACE\"].value_counts().plot(kind='pie', labels=labels, explode=[0.05]*11, autopct=\"%.1f%%\", pctdistance=0.5)\n",
    "plt.axis('equal')\n",
    "plt.title('Race of Mother')"
   ]
  },
  {
   "cell_type": "code",
   "execution_count": 9,
   "metadata": {
    "scrolled": true
   },
   "outputs": [
    {
     "ename": "KeyError",
     "evalue": "\"['mbrace'] not in index\"",
     "output_type": "error",
     "traceback": [
      "\u001b[0;31m---------------------------------------------------------------------------\u001b[0m",
      "\u001b[0;31mKeyError\u001b[0m                                  Traceback (most recent call last)",
      "\u001b[0;32m<ipython-input-9-9c1018d3ef3c>\u001b[0m in \u001b[0;36m<module>\u001b[0;34m\u001b[0m\n\u001b[1;32m      1\u001b[0m \u001b[0mcopy_large\u001b[0m \u001b[0;34m=\u001b[0m \u001b[0mbirths_deaths_large\u001b[0m\u001b[0;34m.\u001b[0m\u001b[0mcopy\u001b[0m\u001b[0;34m(\u001b[0m\u001b[0;34m)\u001b[0m\u001b[0;34m\u001b[0m\u001b[0;34m\u001b[0m\u001b[0m\n\u001b[0;32m----> 2\u001b[0;31m \u001b[0mcleaned_df\u001b[0m \u001b[0;34m=\u001b[0m \u001b[0mcopy_large\u001b[0m\u001b[0;34m[\u001b[0m\u001b[0mcopy_large\u001b[0m\u001b[0;34m[\u001b[0m\u001b[0;34m[\u001b[0m\u001b[0;34m'mbrace'\u001b[0m\u001b[0;34m,\u001b[0m \u001b[0;34m'MOTHERS_EDUCATION'\u001b[0m\u001b[0;34m,\u001b[0m \u001b[0;34m'FATHERS_EDUCATION'\u001b[0m\u001b[0;34m,\u001b[0m \u001b[0;34m'MOTHERS_AGE_RECODE_41'\u001b[0m\u001b[0;34m]\u001b[0m\u001b[0;34m]\u001b[0m\u001b[0;34m.\u001b[0m\u001b[0mnotnull\u001b[0m\u001b[0;34m(\u001b[0m\u001b[0;34m)\u001b[0m\u001b[0;34m.\u001b[0m\u001b[0mall\u001b[0m\u001b[0;34m(\u001b[0m\u001b[0;36m1\u001b[0m\u001b[0;34m)\u001b[0m\u001b[0;34m]\u001b[0m\u001b[0;34m\u001b[0m\u001b[0;34m\u001b[0m\u001b[0m\n\u001b[0m\u001b[1;32m      3\u001b[0m \u001b[0mcleaned_columns_df\u001b[0m \u001b[0;34m=\u001b[0m \u001b[0mcleaned_df\u001b[0m\u001b[0;34m[\u001b[0m\u001b[0;34m[\u001b[0m\u001b[0;34m'mbrace'\u001b[0m\u001b[0;34m,\u001b[0m \u001b[0;34m'MOTHERS_EDUCATION'\u001b[0m\u001b[0;34m,\u001b[0m \u001b[0;34m'FATHERS_EDUCATION'\u001b[0m\u001b[0;34m,\u001b[0m \u001b[0;34m'MOTHERS_AGE_RECODE_41'\u001b[0m\u001b[0;34m]\u001b[0m\u001b[0;34m]\u001b[0m\u001b[0;34m\u001b[0m\u001b[0;34m\u001b[0m\u001b[0m\n\u001b[1;32m      4\u001b[0m \u001b[0;34m\u001b[0m\u001b[0m\n\u001b[1;32m      5\u001b[0m \u001b[0msns\u001b[0m\u001b[0;34m.\u001b[0m\u001b[0mset_theme\u001b[0m\u001b[0;34m(\u001b[0m\u001b[0mstyle\u001b[0m\u001b[0;34m=\u001b[0m\u001b[0;34m\"whitegrid\"\u001b[0m\u001b[0;34m)\u001b[0m\u001b[0;34m\u001b[0m\u001b[0;34m\u001b[0m\u001b[0m\n",
      "\u001b[0;32m/usr/local/lib/python3.8/site-packages/pandas/core/frame.py\u001b[0m in \u001b[0;36m__getitem__\u001b[0;34m(self, key)\u001b[0m\n\u001b[1;32m   2906\u001b[0m             \u001b[0;32mif\u001b[0m \u001b[0mis_iterator\u001b[0m\u001b[0;34m(\u001b[0m\u001b[0mkey\u001b[0m\u001b[0;34m)\u001b[0m\u001b[0;34m:\u001b[0m\u001b[0;34m\u001b[0m\u001b[0;34m\u001b[0m\u001b[0m\n\u001b[1;32m   2907\u001b[0m                 \u001b[0mkey\u001b[0m \u001b[0;34m=\u001b[0m \u001b[0mlist\u001b[0m\u001b[0;34m(\u001b[0m\u001b[0mkey\u001b[0m\u001b[0;34m)\u001b[0m\u001b[0;34m\u001b[0m\u001b[0;34m\u001b[0m\u001b[0m\n\u001b[0;32m-> 2908\u001b[0;31m             \u001b[0mindexer\u001b[0m \u001b[0;34m=\u001b[0m \u001b[0mself\u001b[0m\u001b[0;34m.\u001b[0m\u001b[0mloc\u001b[0m\u001b[0;34m.\u001b[0m\u001b[0m_get_listlike_indexer\u001b[0m\u001b[0;34m(\u001b[0m\u001b[0mkey\u001b[0m\u001b[0;34m,\u001b[0m \u001b[0maxis\u001b[0m\u001b[0;34m=\u001b[0m\u001b[0;36m1\u001b[0m\u001b[0;34m,\u001b[0m \u001b[0mraise_missing\u001b[0m\u001b[0;34m=\u001b[0m\u001b[0;32mTrue\u001b[0m\u001b[0;34m)\u001b[0m\u001b[0;34m[\u001b[0m\u001b[0;36m1\u001b[0m\u001b[0;34m]\u001b[0m\u001b[0;34m\u001b[0m\u001b[0;34m\u001b[0m\u001b[0m\n\u001b[0m\u001b[1;32m   2909\u001b[0m \u001b[0;34m\u001b[0m\u001b[0m\n\u001b[1;32m   2910\u001b[0m         \u001b[0;31m# take() does not accept boolean indexers\u001b[0m\u001b[0;34m\u001b[0m\u001b[0;34m\u001b[0m\u001b[0;34m\u001b[0m\u001b[0m\n",
      "\u001b[0;32m/usr/local/lib/python3.8/site-packages/pandas/core/indexing.py\u001b[0m in \u001b[0;36m_get_listlike_indexer\u001b[0;34m(self, key, axis, raise_missing)\u001b[0m\n\u001b[1;32m   1252\u001b[0m             \u001b[0mkeyarr\u001b[0m\u001b[0;34m,\u001b[0m \u001b[0mindexer\u001b[0m\u001b[0;34m,\u001b[0m \u001b[0mnew_indexer\u001b[0m \u001b[0;34m=\u001b[0m \u001b[0max\u001b[0m\u001b[0;34m.\u001b[0m\u001b[0m_reindex_non_unique\u001b[0m\u001b[0;34m(\u001b[0m\u001b[0mkeyarr\u001b[0m\u001b[0;34m)\u001b[0m\u001b[0;34m\u001b[0m\u001b[0;34m\u001b[0m\u001b[0m\n\u001b[1;32m   1253\u001b[0m \u001b[0;34m\u001b[0m\u001b[0m\n\u001b[0;32m-> 1254\u001b[0;31m         \u001b[0mself\u001b[0m\u001b[0;34m.\u001b[0m\u001b[0m_validate_read_indexer\u001b[0m\u001b[0;34m(\u001b[0m\u001b[0mkeyarr\u001b[0m\u001b[0;34m,\u001b[0m \u001b[0mindexer\u001b[0m\u001b[0;34m,\u001b[0m \u001b[0maxis\u001b[0m\u001b[0;34m,\u001b[0m \u001b[0mraise_missing\u001b[0m\u001b[0;34m=\u001b[0m\u001b[0mraise_missing\u001b[0m\u001b[0;34m)\u001b[0m\u001b[0;34m\u001b[0m\u001b[0;34m\u001b[0m\u001b[0m\n\u001b[0m\u001b[1;32m   1255\u001b[0m         \u001b[0;32mreturn\u001b[0m \u001b[0mkeyarr\u001b[0m\u001b[0;34m,\u001b[0m \u001b[0mindexer\u001b[0m\u001b[0;34m\u001b[0m\u001b[0;34m\u001b[0m\u001b[0m\n\u001b[1;32m   1256\u001b[0m \u001b[0;34m\u001b[0m\u001b[0m\n",
      "\u001b[0;32m/usr/local/lib/python3.8/site-packages/pandas/core/indexing.py\u001b[0m in \u001b[0;36m_validate_read_indexer\u001b[0;34m(self, key, indexer, axis, raise_missing)\u001b[0m\n\u001b[1;32m   1302\u001b[0m             \u001b[0;32mif\u001b[0m \u001b[0mraise_missing\u001b[0m\u001b[0;34m:\u001b[0m\u001b[0;34m\u001b[0m\u001b[0;34m\u001b[0m\u001b[0m\n\u001b[1;32m   1303\u001b[0m                 \u001b[0mnot_found\u001b[0m \u001b[0;34m=\u001b[0m \u001b[0mlist\u001b[0m\u001b[0;34m(\u001b[0m\u001b[0mset\u001b[0m\u001b[0;34m(\u001b[0m\u001b[0mkey\u001b[0m\u001b[0;34m)\u001b[0m \u001b[0;34m-\u001b[0m \u001b[0mset\u001b[0m\u001b[0;34m(\u001b[0m\u001b[0max\u001b[0m\u001b[0;34m)\u001b[0m\u001b[0;34m)\u001b[0m\u001b[0;34m\u001b[0m\u001b[0;34m\u001b[0m\u001b[0m\n\u001b[0;32m-> 1304\u001b[0;31m                 \u001b[0;32mraise\u001b[0m \u001b[0mKeyError\u001b[0m\u001b[0;34m(\u001b[0m\u001b[0;34mf\"{not_found} not in index\"\u001b[0m\u001b[0;34m)\u001b[0m\u001b[0;34m\u001b[0m\u001b[0;34m\u001b[0m\u001b[0m\n\u001b[0m\u001b[1;32m   1305\u001b[0m \u001b[0;34m\u001b[0m\u001b[0m\n\u001b[1;32m   1306\u001b[0m             \u001b[0;31m# we skip the warning on Categorical\u001b[0m\u001b[0;34m\u001b[0m\u001b[0;34m\u001b[0m\u001b[0;34m\u001b[0m\u001b[0m\n",
      "\u001b[0;31mKeyError\u001b[0m: \"['mbrace'] not in index\""
     ]
    }
   ],
   "source": [
    "copy_large = births_deaths_large.copy()\n",
    "cleaned_df = copy_large[copy_large[['mbrace', 'MOTHERS_EDUCATION', 'FATHERS_EDUCATION', 'MOTHERS_AGE_RECODE_41']].notnull().all(1)]\n",
    "cleaned_columns_df = cleaned_df[['mbrace', 'MOTHERS_EDUCATION', 'FATHERS_EDUCATION', 'MOTHERS_AGE_RECODE_41']]\n",
    "\n",
    "sns.set_theme(style=\"whitegrid\")\n",
    "\n",
    "cmap = sns.cubehelix_palette(rot=-.2, as_cmap=True)\n",
    "g = sns.relplot(\n",
    "    data=cleaned_columns_df,\n",
    "    x=\"MOTHERS_EDUCATION\", y=\"FATHERS_EDUCATION\",\n",
    "    hue=\"mbrace\", size=\"MOTHERS_AGE_RECODE_41\",\n",
    "    palette=cmap\n",
    ")\n",
    "g.set(xscale=\"log\", yscale=\"log\")\n",
    "g.ax.xaxis.grid(True, \"minor\", linewidth=.25)\n",
    "g.ax.yaxis.grid(True, \"minor\", linewidth=.25)\n",
    "g.ax.set_title('Relationships between features')\n",
    "g.despine(left=True, bottom=True)"
   ]
  },
  {
   "cell_type": "code",
   "execution_count": null,
   "metadata": {},
   "outputs": [],
   "source": [
    "import pandas as pd\n",
    "import numpy as np\n",
    "from sklearn.preprocessing import StandardScaler\n",
    "\n",
    "scalar = StandardScaler()\n",
    "\n",
    "birth_deaths_raw_int_columns = birth_deaths_raw.copy().select_dtypes(include=['int64'])\n",
    "\n",
    "for col in birth_deaths_raw_int_columns.columns:\n",
    "    birth_deaths_raw_int_columns = birth_deaths_raw_int_columns[birth_deaths_raw_int_columns[col].apply(lambda x: type(x) != str)]\n",
    "\n",
    "rawY = birth_deaths_raw_int_columns.iloc[0:, 0].values\n",
    "rawX = birth_deaths_raw_int_columns.iloc[0:, 1:].values\n",
    "\n",
    "scalar.fit(rawX)\n",
    "rawX = scalar.transform(rawX)\n",
    "\n",
    "for i in range(len(birth_deaths_raw_int_columns[1:])):\n",
    "    print(birth_deaths_raw_int_columns.columns[i+1] + ' Scalar Mean:', scalar.mean_[i], 'Scalar Scale:', scalar.scale_[i])"
   ]
  },
  {
   "cell_type": "code",
   "execution_count": null,
   "metadata": {},
   "outputs": [],
   "source": [
    "means, scales = scalar.mean_, scalar.scale_\n",
    "\n",
    "means_top = np.argsort(means)[::-1]\n",
    "scales_top = np.argsort(scales)[::-1]\n",
    "\n",
    "print('Most important features (mean) are: ', end = '')\n",
    "\n",
    "for i in means_top[:5]:\n",
    "    print(birth_deaths_raw_int_columns.columns[i], end = ', ')\n",
    "    \n",
    "print('\\n')\n",
    "\n",
    "print('Most important features (scale) are: ', end = '')\n",
    "\n",
    "for i in scales_top[:5]:\n",
    "    print(birth_deaths_raw_int_columns.columns[i], end = ', ')"
   ]
  },
  {
   "cell_type": "code",
   "execution_count": 10,
   "metadata": {
    "scrolled": true
   },
   "outputs": [
    {
     "name": "stdout",
     "output_type": "stream",
     "text": [
      "[0.0, 0.0, 1.0, 1.0, 1.0]\n"
     ]
    }
   ],
   "source": [
    "from sklearn.ensemble import RandomForestRegressor, RandomForestClassifier\n",
    "import math\n",
    "\n",
    "def rmse(x,y): return math.sqrt(((x-y)**2).mean())\n",
    "\n",
    "def print_score(m):\n",
    "    res = [rmse(m.predict(rawX), rawY), rmse(m.predict(validX), validY),\n",
    "                m.score(rawX, rawY), m.score(validX, validY)]\n",
    "    if hasattr(m, 'oob_score_'): res.append(m.oob_score_)\n",
    "    print(res)\n",
    "\n",
    "copy_1 = birth_deaths_raw.copy()\n",
    "copy_1 = copy_1.select_dtypes(include=['float64', 'int64'])\n",
    "copy_1 = copy_1.fillna(0)\n",
    "\n",
    "copy_2 = copy_1.copy()\n",
    "copy_2 = copy_2[:1000]\n",
    "\n",
    "forest_regressor = RandomForestRegressor(n_estimators=40, min_samples_leaf=3, max_features=0.5, n_jobs=-1, oob_score=True)\n",
    "\n",
    "rawX, rawY = copy_2.iloc[0:, 1:].values, copy_2.iloc[0:, 0].values\n",
    "validX, validY = copy_1.iloc[0:, 1:].values, copy_1.iloc[0:, 0].values\n",
    "\n",
    "forest_regressor.fit(rawX, rawY)\n",
    "\n",
    "print_score(forest_regressor)"
   ]
  },
  {
   "cell_type": "code",
   "execution_count": 69,
   "metadata": {},
   "outputs": [
    {
     "name": "stderr",
     "output_type": "stream",
     "text": [
      "/usr/local/lib/python3.8/site-packages/sklearn/linear_model/_stochastic_gradient.py:574: ConvergenceWarning: Maximum number of iteration reached before convergence. Consider increasing max_iter to improve the fit.\n",
      "  warnings.warn(\"Maximum number of iteration reached before \"\n",
      "/usr/local/lib/python3.8/site-packages/sklearn/linear_model/_stochastic_gradient.py:574: ConvergenceWarning: Maximum number of iteration reached before convergence. Consider increasing max_iter to improve the fit.\n",
      "  warnings.warn(\"Maximum number of iteration reached before \"\n",
      "/usr/local/lib/python3.8/site-packages/sklearn/linear_model/_stochastic_gradient.py:574: ConvergenceWarning: Maximum number of iteration reached before convergence. Consider increasing max_iter to improve the fit.\n",
      "  warnings.warn(\"Maximum number of iteration reached before \"\n",
      "/usr/local/lib/python3.8/site-packages/sklearn/linear_model/_stochastic_gradient.py:574: ConvergenceWarning: Maximum number of iteration reached before convergence. Consider increasing max_iter to improve the fit.\n",
      "  warnings.warn(\"Maximum number of iteration reached before \"\n",
      "/usr/local/lib/python3.8/site-packages/sklearn/linear_model/_stochastic_gradient.py:574: ConvergenceWarning: Maximum number of iteration reached before convergence. Consider increasing max_iter to improve the fit.\n",
      "  warnings.warn(\"Maximum number of iteration reached before \"\n",
      "/usr/local/lib/python3.8/site-packages/sklearn/linear_model/_stochastic_gradient.py:574: ConvergenceWarning: Maximum number of iteration reached before convergence. Consider increasing max_iter to improve the fit.\n",
      "  warnings.warn(\"Maximum number of iteration reached before \"\n",
      "/usr/local/lib/python3.8/site-packages/sklearn/linear_model/_stochastic_gradient.py:574: ConvergenceWarning: Maximum number of iteration reached before convergence. Consider increasing max_iter to improve the fit.\n",
      "  warnings.warn(\"Maximum number of iteration reached before \"\n",
      "/usr/local/lib/python3.8/site-packages/sklearn/linear_model/_stochastic_gradient.py:574: ConvergenceWarning: Maximum number of iteration reached before convergence. Consider increasing max_iter to improve the fit.\n",
      "  warnings.warn(\"Maximum number of iteration reached before \"\n",
      "/usr/local/lib/python3.8/site-packages/sklearn/linear_model/_stochastic_gradient.py:574: ConvergenceWarning: Maximum number of iteration reached before convergence. Consider increasing max_iter to improve the fit.\n",
      "  warnings.warn(\"Maximum number of iteration reached before \"\n",
      "/usr/local/lib/python3.8/site-packages/sklearn/linear_model/_stochastic_gradient.py:574: ConvergenceWarning: Maximum number of iteration reached before convergence. Consider increasing max_iter to improve the fit.\n",
      "  warnings.warn(\"Maximum number of iteration reached before \"\n",
      "/usr/local/lib/python3.8/site-packages/sklearn/linear_model/_stochastic_gradient.py:574: ConvergenceWarning: Maximum number of iteration reached before convergence. Consider increasing max_iter to improve the fit.\n",
      "  warnings.warn(\"Maximum number of iteration reached before \"\n",
      "/usr/local/lib/python3.8/site-packages/sklearn/linear_model/_stochastic_gradient.py:574: ConvergenceWarning: Maximum number of iteration reached before convergence. Consider increasing max_iter to improve the fit.\n",
      "  warnings.warn(\"Maximum number of iteration reached before \"\n",
      "/usr/local/lib/python3.8/site-packages/sklearn/linear_model/_stochastic_gradient.py:574: ConvergenceWarning: Maximum number of iteration reached before convergence. Consider increasing max_iter to improve the fit.\n",
      "  warnings.warn(\"Maximum number of iteration reached before \"\n",
      "/usr/local/lib/python3.8/site-packages/sklearn/linear_model/_stochastic_gradient.py:574: ConvergenceWarning: Maximum number of iteration reached before convergence. Consider increasing max_iter to improve the fit.\n",
      "  warnings.warn(\"Maximum number of iteration reached before \"\n"
     ]
    },
    {
     "data": {
      "text/plain": [
       "<Figure size 432x288 with 0 Axes>"
      ]
     },
     "metadata": {},
     "output_type": "display_data"
    },
    {
     "data": {
      "image/png": "[encoded data removed]",
      "text/plain": [
       "<Figure size 1152x360 with 1 Axes>"
      ]
     },
     "metadata": {},
     "output_type": "display_data"
    }
   ],
   "source": [
    "from sklearn.feature_extraction.text import CountVectorizer\n",
    "from sklearn.linear_model import SGDClassifier\n",
    "from sklearn.metrics import accuracy_score, precision_score\n",
    "\n",
    "df_logistic = births_deaths_large.copy()\n",
    "df_logistic = df_logistic.select_dtypes(include=['float64', 'int64'])\n",
    "df_logistic = df_logistic.fillna(0)\n",
    "\n",
    "df_logistic = df_logistic[df_logistic[['aged']].notnull().all(1)]\n",
    "\n",
    "Y_train = df_logistic.iloc[:292, 220].values\n",
    "text_train = df_logistic.loc[:1000, df_logistic.columns != 'aged']\n",
    "\n",
    "vec = CountVectorizer()\n",
    "X_train = vec.fit_transform(text_train)\n",
    "feature_names = np.asarray(vec.get_feature_names())\n",
    "\n",
    "Y_test = df_logistic.iloc[292:584, 220].values\n",
    "text_test = df_logistic.iloc[1000:, df_logistic.columns != 'aged']\n",
    "X_test = vec.transform(text_test)\n",
    "\n",
    "alpha_train, alpha_test, training_accuracy, test_accuracy = [], [], [], []\n",
    "alpha_vals = [0.0001, 0.001, 0.01, 0.1, 1, 10, 100]\n",
    "\n",
    "for alphas in alpha_vals:    \n",
    "    # Classify data\n",
    "    alpha_train.append(SGDClassifier(loss='log', max_iter=1000, tol=1.0e-12, random_state=123, average=False, alpha=alphas))\n",
    "    alpha_test.append(SGDClassifier(loss='log', max_iter=1000, tol=1.0e-12, random_state=123, average=False, alpha=alphas))\n",
    "    \n",
    "    # Fit data\n",
    "    alpha_train[len(alpha_train) - 1].fit(X_train, Y_train)\n",
    "    alpha_test[len(alpha_test) - 1].fit(X_test, Y_test)\n",
    "\n",
    "# Get the training and testing accuracy based on different alpha values\n",
    "for alphas in range(0, 7):\n",
    "    training_accuracy.append(accuracy_score(Y_train, alpha_train[alphas].predict(X_train)))\n",
    "    test_accuracy.append(accuracy_score(Y_test, alpha_test[alphas].predict(X_test)))\n",
    "\n",
    "# Plot the data\n",
    "fig = plt.figure()\n",
    "plt.figure(figsize=(16,5))\n",
    "plt.semilogx(alpha_vals, training_accuracy, label=\"Training Data\")\n",
    "plt.semilogx(alpha_vals, test_accuracy, label=\"Testing Data\")\n",
    "plt.grid(True)\n",
    "fig.suptitle('Accuracy vs. Alpha', fontsize=18)\n",
    "plt.xlabel('Alpha', fontsize=14)\n",
    "plt.ylabel('Accuracy', fontsize=14)\n",
    "plt.legend()\n",
    "plt.show()"
   ]
  },
  {
   "cell_type": "code",
   "execution_count": 67,
   "metadata": {},
   "outputs": [
    {
     "name": "stdout",
     "output_type": "stream",
     "text": [
      "Number of SGD iterations: 18\n",
      "Training accuracy: 0.989726\n",
      "Testing accuracy: 0.003425\n",
      "\n",
      "Top three features that hurt baby's lifespan:\n",
      "\"record_17\": -5.44769206\n",
      "\"meconium\": 0.00000000\n",
      "\"maternal_transfusion\": 0.00000000\n",
      "\n",
      "Top three features that increased baby's lifespan:\n",
      "\"econds_9\": 0.00000000\n",
      "\"f_ab_antibio\": 0.00000000\n",
      "\"uop_tocol\": 4.70017775\n"
     ]
    }
   ],
   "source": [
    "classifier = SGDClassifier(loss='perceptron', max_iter=1000, tol=1.0e-12, random_state=123, average=True)\n",
    "classifier.fit(X_train, Y_train)\n",
    "\n",
    "print(\"Number of SGD iterations: %d\" % classifier.n_iter_)\n",
    "print(\"Training accuracy: %0.6f\" % accuracy_score(Y_train, classifier.predict(X_train)))\n",
    "print(\"Testing accuracy: %0.6f\" % accuracy_score(Y_test, classifier.predict(X_test)))\n",
    "\n",
    "args, feature_weights = np.argsort(classifier.coef_[0]), []\n",
    "\n",
    "for a in args:\n",
    "    feature_weights.append([feature_names[a], classifier.coef_[0][a]])\n",
    "    \n",
    "print()\n",
    "print(\"Top three features that hurt baby's lifespan:\")\n",
    "print(\"\\\"%s\\\": %0.8f\" % (feature_weights[:3][0][0], feature_weights[:3][0][1]))\n",
    "print(\"\\\"%s\\\": %0.8f\" % (feature_weights[:3][1][0], feature_weights[:3][1][1]))\n",
    "print(\"\\\"%s\\\": %0.8f\" % (feature_weights[:3][2][0], feature_weights[:3][2][1]))\n",
    "\n",
    "print()\n",
    "print(\"Top three features that increased baby's lifespan:\")\n",
    "print(\"\\\"%s\\\": %0.8f\" % (feature_weights[-3:][0][0], feature_weights[-3:][0][1]))\n",
    "print(\"\\\"%s\\\": %0.8f\" % (feature_weights[-3:][1][0], feature_weights[-3:][1][1]))\n",
    "print(\"\\\"%s\\\": %0.8f\" % (feature_weights[-3:][2][0], feature_weights[-3:][2][1]))"
   ]
  },
  {
   "cell_type": "code",
   "execution_count": 73,
   "metadata": {},
   "outputs": [
    {
     "name": "stdout",
     "output_type": "stream",
     "text": [
      "[1 1 8 2 6 1 2 2 3 4 3 2 5 1 2 1 3 3 2 1 1 2 2 5 1 4 1 4 1 2 4 1 2 2 2 2 1\n",
      " 2 2 1 3 2 3 4 2 2 3 1 1 1 2 2 3 2 2 5 2 3 2 4 3 5 2 1 2 2 1 5 2 1 2 1 2 2\n",
      " 3 1 1 5 2 2 2 5 2 2 1 1 6 1 1 2 3 2 1 1 1 2 1 4 3 1 4 2 2 1 2 1 1 1 2 3 1\n",
      " 2 3 5 1 8 2 2 3 1 1 1 3 3 1 3 5 2 3 2 2 4 3 6 2 4 2 1 1 5 2 1 4 1 2 1 5 5\n",
      " 1 2 1 1 1 2 1 2 1 6 1 2 2 1 3 3 6 2 8 1 3 1 2 1 2 2 6 1 2 2 1 3 3 2 1 2 1\n",
      " 1 2 1 1 1 3 6 1 5 1 2 5 1 1 3 1 1 1 2 2 2 2 5 3 2 1 1 1 1 3 1 1 1 1 7 4 1\n",
      " 4 2 6 3 1 3 1 5 3 1 8 3 2 3 2 1 2 1 2 1 8 3 3 2 3 4 8 4 3 3 3 2 5 2 1 1 3\n",
      " 2 1 4 2 3 2 1 1 1 5 1 2 4 1 2 5 1 2 1 3 1 1 4 2 2 1 1 4 2 1 1 1 1]\n"
     ]
    },
    {
     "name": "stderr",
     "output_type": "stream",
     "text": [
      "/usr/local/lib/python3.8/site-packages/sklearn/linear_model/_stochastic_gradient.py:574: ConvergenceWarning: Maximum number of iteration reached before convergence. Consider increasing max_iter to improve the fit.\n",
      "  warnings.warn(\"Maximum number of iteration reached before \"\n",
      "/usr/local/lib/python3.8/site-packages/sklearn/linear_model/_stochastic_gradient.py:574: ConvergenceWarning: Maximum number of iteration reached before convergence. Consider increasing max_iter to improve the fit.\n",
      "  warnings.warn(\"Maximum number of iteration reached before \"\n",
      "/usr/local/lib/python3.8/site-packages/sklearn/linear_model/_stochastic_gradient.py:574: ConvergenceWarning: Maximum number of iteration reached before convergence. Consider increasing max_iter to improve the fit.\n",
      "  warnings.warn(\"Maximum number of iteration reached before \"\n",
      "/usr/local/lib/python3.8/site-packages/sklearn/linear_model/_stochastic_gradient.py:574: ConvergenceWarning: Maximum number of iteration reached before convergence. Consider increasing max_iter to improve the fit.\n",
      "  warnings.warn(\"Maximum number of iteration reached before \"\n",
      "/usr/local/lib/python3.8/site-packages/sklearn/linear_model/_stochastic_gradient.py:574: ConvergenceWarning: Maximum number of iteration reached before convergence. Consider increasing max_iter to improve the fit.\n",
      "  warnings.warn(\"Maximum number of iteration reached before \"\n",
      "/usr/local/lib/python3.8/site-packages/sklearn/linear_model/_stochastic_gradient.py:574: ConvergenceWarning: Maximum number of iteration reached before convergence. Consider increasing max_iter to improve the fit.\n",
      "  warnings.warn(\"Maximum number of iteration reached before \"\n",
      "/usr/local/lib/python3.8/site-packages/sklearn/linear_model/_stochastic_gradient.py:574: ConvergenceWarning: Maximum number of iteration reached before convergence. Consider increasing max_iter to improve the fit.\n",
      "  warnings.warn(\"Maximum number of iteration reached before \"\n",
      "/usr/local/lib/python3.8/site-packages/sklearn/linear_model/_stochastic_gradient.py:574: ConvergenceWarning: Maximum number of iteration reached before convergence. Consider increasing max_iter to improve the fit.\n",
      "  warnings.warn(\"Maximum number of iteration reached before \"\n",
      "/usr/local/lib/python3.8/site-packages/sklearn/linear_model/_stochastic_gradient.py:574: ConvergenceWarning: Maximum number of iteration reached before convergence. Consider increasing max_iter to improve the fit.\n",
      "  warnings.warn(\"Maximum number of iteration reached before \"\n",
      "/usr/local/lib/python3.8/site-packages/sklearn/linear_model/_stochastic_gradient.py:574: ConvergenceWarning: Maximum number of iteration reached before convergence. Consider increasing max_iter to improve the fit.\n",
      "  warnings.warn(\"Maximum number of iteration reached before \"\n",
      "/usr/local/lib/python3.8/site-packages/sklearn/linear_model/_stochastic_gradient.py:574: ConvergenceWarning: Maximum number of iteration reached before convergence. Consider increasing max_iter to improve the fit.\n",
      "  warnings.warn(\"Maximum number of iteration reached before \"\n"
     ]
    },
    {
     "data": {
      "text/plain": [
       "<Figure size 432x288 with 0 Axes>"
      ]
     },
     "metadata": {},
     "output_type": "display_data"
    },
    {
     "data": {
      "image/png": "[encoded data removed]",
      "text/plain": [
       "<Figure size 1152x360 with 1 Axes>"
      ]
     },
     "metadata": {},
     "output_type": "display_data"
    }
   ],
   "source": [
    "from sklearn.feature_extraction.text import CountVectorizer\n",
    "from sklearn.linear_model import SGDClassifier\n",
    "from sklearn.metrics import accuracy_score, precision_score\n",
    "\n",
    "df_logistic = births_deaths_large.copy()\n",
    "df_logistic = df_logistic.select_dtypes(include=['float64', 'int64'])\n",
    "df_logistic = df_logistic.fillna(0)\n",
    "\n",
    "df_logistic = df_logistic[df_logistic[['LIVE_BIRTH_ORDER_RECODE']].notnull().all(1)]\n",
    "\n",
    "Y_train = df_logistic.iloc[:292, 42].values\n",
    "text_train = df_logistic.loc[:1000, df_logistic.columns != 'LIVE_BIRTH_ORDER_RECODE']\n",
    "\n",
    "print(Y_train)\n",
    "\n",
    "vec = CountVectorizer()\n",
    "X_train = vec.fit_transform(text_train)\n",
    "feature_names = np.asarray(vec.get_feature_names())\n",
    "\n",
    "Y_test = df_logistic.iloc[292:584, 42].values\n",
    "text_test = df_logistic.iloc[1000:, df_logistic.columns != 'LIVE_BIRTH_ORDER_RECODE']\n",
    "X_test = vec.transform(text_test)\n",
    "\n",
    "alpha_train, alpha_test, training_accuracy, test_accuracy = [], [], [], []\n",
    "alpha_vals = [0.0001, 0.001, 0.01, 0.1, 1, 10, 100]\n",
    "\n",
    "for alphas in alpha_vals:    \n",
    "    # Classify data\n",
    "    alpha_train.append(SGDClassifier(loss='log', max_iter=1000, tol=1.0e-12, random_state=123, average=False, alpha=alphas))\n",
    "    alpha_test.append(SGDClassifier(loss='log', max_iter=1000, tol=1.0e-12, random_state=123, average=False, alpha=alphas))\n",
    "    \n",
    "    # Fit data\n",
    "    alpha_train[len(alpha_train) - 1].fit(X_train, Y_train)\n",
    "    alpha_test[len(alpha_test) - 1].fit(X_test, Y_test)\n",
    "\n",
    "# Get the training and testing accuracy based on different alpha values\n",
    "for alphas in range(0, 7):\n",
    "    training_accuracy.append(accuracy_score(Y_train, alpha_train[alphas].predict(X_train)))\n",
    "    test_accuracy.append(accuracy_score(Y_test, alpha_test[alphas].predict(X_test)))\n",
    "\n",
    "# Plot the data\n",
    "fig = plt.figure()\n",
    "plt.figure(figsize=(16,5))\n",
    "plt.semilogx(alpha_vals, training_accuracy, label=\"Training Data\")\n",
    "plt.semilogx(alpha_vals, test_accuracy, label=\"Testing Data\")\n",
    "plt.grid(True)\n",
    "fig.suptitle('Accuracy vs. Alpha', fontsize=18)\n",
    "plt.xlabel('Alpha', fontsize=14)\n",
    "plt.ylabel('Accuracy', fontsize=14)\n",
    "plt.legend()\n",
    "plt.show()"
   ]
  },
  {
   "cell_type": "code",
   "execution_count": 75,
   "metadata": {},
   "outputs": [
    {
     "name": "stdout",
     "output_type": "stream",
     "text": [
      "Number of SGD iterations: 12\n",
      "Training accuracy: 0.989726\n",
      "Testing accuracy: 0.256849\n",
      "\n",
      "Top three features that hurt live birth recode\n",
      "\"gestation_recode_10\": -5.15035822\n",
      "\"f_urf_eclam\": -5.14608594\n",
      "\"f_uld_breech\": -5.12478827\n",
      "\n",
      "Top three features that increased live birth recode\n",
      "\"dob_year\": 5.11206035\n",
      "\"econdp_3\": 5.13755415\n",
      "\"record_17\": 5.15891558\n"
     ]
    }
   ],
   "source": [
    "classifier = SGDClassifier(loss='perceptron', max_iter=1000, tol=1.0e-12, random_state=123, average=True)\n",
    "classifier.fit(X_train, Y_train)\n",
    "\n",
    "print(\"Number of SGD iterations: %d\" % classifier.n_iter_)\n",
    "print(\"Training accuracy: %0.6f\" % accuracy_score(Y_train, classifier.predict(X_train)))\n",
    "print(\"Testing accuracy: %0.6f\" % accuracy_score(Y_test, classifier.predict(X_test)))\n",
    "\n",
    "args, feature_weights = np.argsort(classifier.coef_[0]), []\n",
    "\n",
    "for a in args:\n",
    "    feature_weights.append([feature_names[a], classifier.coef_[0][a]])\n",
    "    \n",
    "print()\n",
    "print(\"Top three features that hurt live birth recode\")\n",
    "print(\"\\\"%s\\\": %0.8f\" % (feature_weights[:3][0][0], feature_weights[:3][0][1]))\n",
    "print(\"\\\"%s\\\": %0.8f\" % (feature_weights[:3][1][0], feature_weights[:3][1][1]))\n",
    "print(\"\\\"%s\\\": %0.8f\" % (feature_weights[:3][2][0], feature_weights[:3][2][1]))\n",
    "\n",
    "print()\n",
    "print(\"Top three features that increased live birth recode\")\n",
    "print(\"\\\"%s\\\": %0.8f\" % (feature_weights[-3:][0][0], feature_weights[-3:][0][1]))\n",
    "print(\"\\\"%s\\\": %0.8f\" % (feature_weights[-3:][1][0], feature_weights[-3:][1][1]))\n",
    "print(\"\\\"%s\\\": %0.8f\" % (feature_weights[-3:][2][0], feature_weights[-3:][2][1]))"
   ]
  }
 ],
 "metadata": {
  "kernelspec": {
   "display_name": "Python 3",
   "language": "python",
   "name": "python3"
  },
  "language_info": {
   "codemirror_mode": {
    "name": "ipython",
    "version": 3
   },
   "file_extension": ".py",
   "mimetype": "text/x-python",
   "name": "python",
   "nbconvert_exporter": "python",
   "pygments_lexer": "ipython3",
   "version": "3.8.6"
  }
 },
 "nbformat": 4,
 "nbformat_minor": 1
}
