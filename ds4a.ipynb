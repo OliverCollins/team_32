{
 "cells": [
  {
   "cell_type": "code",
   "execution_count": 16,
   "metadata": {},
   "outputs": [],
   "source": [
    "import pandas as pd\n",
    "import numpy as np\n",
    "import matplotlib.pyplot as plt\n",
    "import seaborn as sns"
   ]
  },
  {
   "cell_type": "markdown",
   "metadata": {},
   "source": [
    "**Import Data**"
   ]
  },
  {
   "cell_type": "code",
   "execution_count": 15,
   "metadata": {},
   "outputs": [],
   "source": [
    "# Linked Birth Infant Death Records 2017-2018\n",
    "birth_deaths = pd.read_fwf(\"./data/birth.txt\")\n",
    "\n",
    "# Physicians and Surgeons by race/ethnicity and practice\n",
    "physicians = pd.read_csv(\"./data/physicians.csv\")"
   ]
  },
  {
   "cell_type": "code",
   "execution_count": 14,
   "metadata": {},
   "outputs": [
    {
     "name": "stdout",
     "output_type": "stream",
     "text": [
      "birth_deaths: 77 physicians: 892\n"
     ]
    }
   ],
   "source": [
    "print(\"birth_deaths:\", len(birth_deaths), \"physicians:\", len(physicians))"
   ]
  },
  {
   "cell_type": "code",
   "execution_count": 52,
   "metadata": {},
   "outputs": [
    {
     "data": {
      "text/html": [
       "<div>\n",
       "<style scoped>\n",
       "    .dataframe tbody tr th:only-of-type {\n",
       "        vertical-align: middle;\n",
       "    }\n",
       "\n",
       "    .dataframe tbody tr th {\n",
       "        vertical-align: top;\n",
       "    }\n",
       "\n",
       "    .dataframe thead th {\n",
       "        text-align: right;\n",
       "    }\n",
       "</style>\n",
       "<table border=\"1\" class=\"dataframe\">\n",
       "  <thead>\n",
       "    <tr style=\"text-align: right;\">\n",
       "      <th></th>\n",
       "      <th>Month</th>\n",
       "      <th>Year</th>\n",
       "      <th>Primary Practice County</th>\n",
       "      <th>Race/Ethnicity</th>\n",
       "      <th>Count of Licensees</th>\n",
       "    </tr>\n",
       "  </thead>\n",
       "  <tbody>\n",
       "    <tr>\n",
       "      <th>0</th>\n",
       "      <td>March</td>\n",
       "      <td>2016</td>\n",
       "      <td>Alameda</td>\n",
       "      <td>African-American/Black/African</td>\n",
       "      <td>148</td>\n",
       "    </tr>\n",
       "    <tr>\n",
       "      <th>1</th>\n",
       "      <td>March</td>\n",
       "      <td>2016</td>\n",
       "      <td>Alameda</td>\n",
       "      <td>American Indian/ Native America</td>\n",
       "      <td>6</td>\n",
       "    </tr>\n",
       "    <tr>\n",
       "      <th>2</th>\n",
       "      <td>March</td>\n",
       "      <td>2016</td>\n",
       "      <td>Alameda</td>\n",
       "      <td>Asian - Cambodian</td>\n",
       "      <td>1</td>\n",
       "    </tr>\n",
       "    <tr>\n",
       "      <th>3</th>\n",
       "      <td>March</td>\n",
       "      <td>2016</td>\n",
       "      <td>Alameda</td>\n",
       "      <td>Asian - Chinese</td>\n",
       "      <td>284</td>\n",
       "    </tr>\n",
       "    <tr>\n",
       "      <th>4</th>\n",
       "      <td>March</td>\n",
       "      <td>2016</td>\n",
       "      <td>Alameda</td>\n",
       "      <td>Asian - Indian</td>\n",
       "      <td>273</td>\n",
       "    </tr>\n",
       "    <tr>\n",
       "      <th>5</th>\n",
       "      <td>March</td>\n",
       "      <td>2016</td>\n",
       "      <td>Alameda</td>\n",
       "      <td>Asian - Indonesian</td>\n",
       "      <td>2</td>\n",
       "    </tr>\n",
       "    <tr>\n",
       "      <th>6</th>\n",
       "      <td>March</td>\n",
       "      <td>2016</td>\n",
       "      <td>Alameda</td>\n",
       "      <td>Asian - Japanese</td>\n",
       "      <td>20</td>\n",
       "    </tr>\n",
       "    <tr>\n",
       "      <th>7</th>\n",
       "      <td>March</td>\n",
       "      <td>2016</td>\n",
       "      <td>Alameda</td>\n",
       "      <td>Asian - Korean</td>\n",
       "      <td>41</td>\n",
       "    </tr>\n",
       "    <tr>\n",
       "      <th>8</th>\n",
       "      <td>March</td>\n",
       "      <td>2016</td>\n",
       "      <td>Alameda</td>\n",
       "      <td>Asian - Other Asian</td>\n",
       "      <td>34</td>\n",
       "    </tr>\n",
       "    <tr>\n",
       "      <th>9</th>\n",
       "      <td>March</td>\n",
       "      <td>2016</td>\n",
       "      <td>Alameda</td>\n",
       "      <td>Asian - Pakistani</td>\n",
       "      <td>15</td>\n",
       "    </tr>\n",
       "  </tbody>\n",
       "</table>\n",
       "</div>"
      ],
      "text/plain": [
       "   Month  Year Primary Practice County                   Race/Ethnicity  \\\n",
       "0  March  2016                 Alameda   African-American/Black/African   \n",
       "1  March  2016                 Alameda  American Indian/ Native America   \n",
       "2  March  2016                 Alameda                Asian - Cambodian   \n",
       "3  March  2016                 Alameda                  Asian - Chinese   \n",
       "4  March  2016                 Alameda                   Asian - Indian   \n",
       "5  March  2016                 Alameda               Asian - Indonesian   \n",
       "6  March  2016                 Alameda                 Asian - Japanese   \n",
       "7  March  2016                 Alameda                   Asian - Korean   \n",
       "8  March  2016                 Alameda              Asian - Other Asian   \n",
       "9  March  2016                 Alameda                Asian - Pakistani   \n",
       "\n",
       "   Count of Licensees  \n",
       "0                 148  \n",
       "1                   6  \n",
       "2                   1  \n",
       "3                 284  \n",
       "4                 273  \n",
       "5                   2  \n",
       "6                  20  \n",
       "7                  41  \n",
       "8                  34  \n",
       "9                  15  "
      ]
     },
     "execution_count": 52,
     "metadata": {},
     "output_type": "execute_result"
    }
   ],
   "source": [
    "physicians.head(10)"
   ]
  },
  {
   "cell_type": "code",
   "execution_count": 55,
   "metadata": {},
   "outputs": [
    {
     "data": {
      "text/plain": [
       "<AxesSubplot:xlabel='Race/Ethnicity', ylabel='Count of Licensees'>"
      ]
     },
     "execution_count": 55,
     "metadata": {},
     "output_type": "execute_result"
    },
    {
     "data": {
      "image/png": "[encoded data removed]",
      "text/plain": [
       "<Figure size 1152x288 with 1 Axes>"
      ]
     },
     "metadata": {},
     "output_type": "display_data"
    }
   ],
   "source": [
    "# Simplify Race/Ethnicity into ethnic groups (https://grants.nih.gov/grants/guide/notice-files/not-od-15-089.html)\n",
    "ethnic_groups = {\n",
    "    \"American Indian/Alaska Native\": 0,\n",
    "    \"Asian\": 0,\n",
    "    \"Black/African American\": 0,\n",
    "    \"Hispanic/Latino\": 0,\n",
    "    \"Native Hawaiian/Other Pacific Islander\": 0,\n",
    "    \"White\": 0,\n",
    "    \"Other\": 0\n",
    "}\n",
    "\n",
    "for index, row in physicians.iterrows():\n",
    "    if 'White' in row['Race/Ethnicity']:\n",
    "        ethnic_groups['White'] += row['Count of Licensees']\n",
    "    elif 'Latino' in row['Race/Ethnicity'] or 'Hispanic' in row['Race/Ethnicity']:\n",
    "        ethnic_groups['Hispanic/Latino'] += row['Count of Licensees']\n",
    "    elif 'African-American' in row['Race/Ethnicity'] or 'Black' in row['Race/Ethnicity']:\n",
    "        ethnic_groups['Black/African American'] += row['Count of Licensees']\n",
    "    elif 'Hawaiian' in row['Race/Ethnicity']:\n",
    "        ethnic_groups['Native Hawaiian/Other Pacific Islander'] += row['Count of Licensees']\n",
    "    elif 'Asian' in row['Race/Ethnicity'] or 'Taiwanese' in row['Race/Ethnicity'] or 'Singaporean' in row['Race/Ethnicity'] or 'Malaysian' in row['Race/Ethnicity']:\n",
    "        ethnic_groups['Asian'] += row['Count of Licensees']\n",
    "    elif 'Native America' in row['Race/Ethnicity']:\n",
    "        ethnic_groups['American Indian/Alaska Native'] += row['Count of Licensees']\n",
    "    else:\n",
    "        ethnic_groups['Other'] += row['Count of Licensees']\n",
    "    \n",
    "columns = ['Race/Ethnicity', 'Count of Licensees']\n",
    "\n",
    "data = []\n",
    "for race, count in ethnic_groups.items():\n",
    "    data.append([race, count])\n",
    "\n",
    "physicians_ethnic_groups = pd.DataFrame(data, columns=columns)\n",
    "\n",
    "# Plot!\n",
    "sns.set(style=\"whitegrid\")\n",
    "\n",
    "plt.figure(1, figsize=(16,4))\n",
    "sns.barplot(x='Race/Ethnicity',y='Count of Licensees', data=physicians_ethnic_groups, palette='Spectral')"
   ]
  }
 ],
 "metadata": {
  "kernelspec": {
   "display_name": "Python 3",
   "language": "python",
   "name": "python3"
  },
  "language_info": {
   "codemirror_mode": {
    "name": "ipython",
    "version": 3
   },
   "file_extension": ".py",
   "mimetype": "text/x-python",
   "name": "python",
   "nbconvert_exporter": "python",
   "pygments_lexer": "ipython3",
   "version": "3.8.6"
  }
 },
 "nbformat": 4,
 "nbformat_minor": 1
}
